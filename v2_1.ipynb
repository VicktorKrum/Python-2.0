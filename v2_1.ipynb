{
  "nbformat": 4,
  "nbformat_minor": 0,
  "metadata": {
    "colab": {
      "provenance": []
    },
    "kernelspec": {
      "name": "python3",
      "display_name": "Python 3"
    },
    "language_info": {
      "name": "python"
    }
  },
  "cells": [
    {
      "cell_type": "markdown",
      "source": [
        "text formatting"
      ],
      "metadata": {
        "id": "WbopCE-cfEaq"
      }
    },
    {
      "cell_type": "code",
      "source": [
        "print(f\"Twinkle, twinkle, little star,\\n\\t How I wonder what you are!\\n\\t\\t Up above the world so high,\\n\\t\\t Like a diamond in the sky. \\n Twinkle, twinkle, little star, \\n \\t How I wonder what you are\")"
      ],
      "metadata": {
        "colab": {
          "base_uri": "https://localhost:8080/"
        },
        "id": "s-X7bYDtMivm",
        "outputId": "28039a2e-6dbd-480e-8ec8-d61d7f94d25f"
      },
      "execution_count": 47,
      "outputs": [
        {
          "output_type": "stream",
          "name": "stdout",
          "text": [
            "Twinkle, twinkle, little star,\n",
            "\t How I wonder what you are!\n",
            "\t\t Up above the world so high,\n",
            "\t\t Like a diamond in the sky. \n",
            " Twinkle, twinkle, little star, \n",
            " \t How I wonder what you are\n"
          ]
        }
      ]
    },
    {
      "cell_type": "markdown",
      "source": [
        "version check"
      ],
      "metadata": {
        "id": "iTgcG2FLfArm"
      }
    },
    {
      "cell_type": "code",
      "source": [
        "import sys\n",
        "print(sys.version)"
      ],
      "metadata": {
        "colab": {
          "base_uri": "https://localhost:8080/"
        },
        "id": "swUuOG2SU4TF",
        "outputId": "9eee7fd6-ad4c-4b9a-c39d-d7d79d79bcc8"
      },
      "execution_count": 48,
      "outputs": [
        {
          "output_type": "stream",
          "name": "stdout",
          "text": [
            "3.10.12 (main, Sep 11 2024, 15:47:36) [GCC 11.4.0]\n"
          ]
        }
      ]
    },
    {
      "cell_type": "markdown",
      "source": [
        "various ways of printing the current datetime"
      ],
      "metadata": {
        "id": "8KsIr4jIe3_6"
      }
    },
    {
      "cell_type": "code",
      "source": [
        "import time, datetime, calendar\n",
        "print(time.strftime(\"%Y-%m-%d %H:%M:%S\"))\n",
        "print(datetime.datetime.now())\n",
        "print(calendar.month(2024, 9))"
      ],
      "metadata": {
        "colab": {
          "base_uri": "https://localhost:8080/"
        },
        "id": "xH0oCbu1U5Oq",
        "outputId": "a3cdd961-0785-428e-d1d2-e780fbdbfa64"
      },
      "execution_count": 49,
      "outputs": [
        {
          "output_type": "stream",
          "name": "stdout",
          "text": [
            "2024-09-29 07:11:54\n",
            "2024-09-29 07:11:54.383144\n",
            "   September 2024\n",
            "Mo Tu We Th Fr Sa Su\n",
            "                   1\n",
            " 2  3  4  5  6  7  8\n",
            " 9 10 11 12 13 14 15\n",
            "16 17 18 19 20 21 22\n",
            "23 24 25 26 27 28 29\n",
            "30\n",
            "\n"
          ]
        }
      ]
    },
    {
      "cell_type": "markdown",
      "source": [],
      "metadata": {
        "id": "ufhdfgYKesRK"
      }
    },
    {
      "cell_type": "markdown",
      "source": [
        "Calculating circle area with input radius"
      ],
      "metadata": {
        "id": "JQuhELHJexUV"
      }
    },
    {
      "cell_type": "code",
      "source": [
        "radius= int(input(\"Input radius in cms\"))\n",
        "\n",
        "area = 3.14 * radius**2\n",
        "print(\"Area of the circle\", area)"
      ],
      "metadata": {
        "colab": {
          "base_uri": "https://localhost:8080/"
        },
        "id": "OegeWsptV6VL",
        "outputId": "71ed03e1-0223-4e49-ac68-65dfc9d2ac17"
      },
      "execution_count": 50,
      "outputs": [
        {
          "output_type": "stream",
          "name": "stdout",
          "text": [
            "Input radius in cms20\n",
            "Area of the circle 1256.0\n"
          ]
        }
      ]
    },
    {
      "cell_type": "markdown",
      "source": [
        "Calculating circle area with input radius"
      ],
      "metadata": {
        "id": "B6kuvc_Pem9M"
      }
    },
    {
      "cell_type": "code",
      "source": [
        "radius= int(input(\"Input radius\"))\n",
        "unit = input(\"Input unit\")\n",
        "unit = unit.lower()\n",
        "if (unit==\"cm\"):\n",
        "  area = 3.14 * radius**2\n",
        "  print(f\"Area of the circle{area} {unit}^2\")\n",
        "elif (unit==\"m\"):\n",
        "  area = 3.14 * radius**2\n",
        "  print(f\"Area of the circle{area} {unit}^2\")\n",
        "elif (unit==\"ft\"):\n",
        "  area = 3.14 * radius**2\n",
        "  print(f\"Area of the circle{area} {unit}^2\")"
      ],
      "metadata": {
        "colab": {
          "base_uri": "https://localhost:8080/"
        },
        "id": "0qCUcM7GXIk3",
        "outputId": "aef94b45-e756-47ac-c193-9cee77890111"
      },
      "execution_count": 51,
      "outputs": [
        {
          "output_type": "stream",
          "name": "stdout",
          "text": [
            "Input radius22\n",
            "Input unitFT\n",
            "Area of the circle1519.76 ft^2\n"
          ]
        }
      ]
    },
    {
      "cell_type": "markdown",
      "source": [
        "Reversing tyhe input satatement (in this case, full name)"
      ],
      "metadata": {
        "id": "i7YyhqK9eeca"
      }
    },
    {
      "cell_type": "code",
      "source": [
        "def reverse_string(s):\n",
        "  return s[::-1]\n",
        "\n",
        "string_to_reverse = input(\"Enter your full name:\")\n",
        "reversed_string = reverse_string(string_to_reverse)\n",
        "print(f\"Reversed name: {reversed_string}\")\n"
      ],
      "metadata": {
        "colab": {
          "base_uri": "https://localhost:8080/"
        },
        "id": "6yR6vkj9YfeS",
        "outputId": "953a7f33-b2bb-45d2-8e8b-af7a212d109f"
      },
      "execution_count": 52,
      "outputs": [
        {
          "output_type": "stream",
          "name": "stdout",
          "text": [
            "Enter your full name:Vicktor Krum\n",
            "Reversed name: murK rotkciV\n"
          ]
        }
      ]
    },
    {
      "cell_type": "markdown",
      "source": [
        "Convert input number array into list and tuple\n"
      ],
      "metadata": {
        "id": "Ca7GTjwIeRyE"
      }
    },
    {
      "cell_type": "code",
      "source": [
        "list1 = []\n",
        "list_items = input(\"Enter items:\")\n",
        "list1.append(list_items)\n",
        "print(\"list1\",list1)\n",
        "\n",
        "#list_items = input(\"Enter items:\")\n",
        "#list1.extend([list_items])\n",
        "#print(list1)\n",
        "\n",
        "tuple1 = tuple(list1)\n",
        "print(\"Tuple1 without stripping the trailing comma:\",tuple1)\n",
        "\n"
      ],
      "metadata": {
        "colab": {
          "base_uri": "https://localhost:8080/"
        },
        "id": "AUz2TeogZfjo",
        "outputId": "3be6f3ce-11ad-4afc-adf2-47083bbdc0aa"
      },
      "execution_count": 53,
      "outputs": [
        {
          "output_type": "stream",
          "name": "stdout",
          "text": [
            "Enter items:2,3,4\n",
            "list1 ['2,3,4']\n",
            "Tuple1 without stripping the trailing comma: ('2,3,4',)\n"
          ]
        }
      ]
    },
    {
      "cell_type": "code",
      "source": [
        "list2 = list_items.split(\",\")\n",
        "list2= [int(num) for num in list2]\n",
        "print(\"list2:\",list2)\n",
        "tuple2 = tuple(list2)\n",
        "print(\"Tuple2 after stripping the trailing comma:\",tuple2)"
      ],
      "metadata": {
        "colab": {
          "base_uri": "https://localhost:8080/"
        },
        "id": "6uV8emgQaYpU",
        "outputId": "822bf9c2-4e71-4ff5-d405-d976cf614532"
      },
      "execution_count": 54,
      "outputs": [
        {
          "output_type": "stream",
          "name": "stdout",
          "text": [
            "list2: [2, 3, 4]\n",
            "Tuple2 after stripping the trailing comma: (2, 3, 4)\n"
          ]
        }
      ]
    },
    {
      "cell_type": "markdown",
      "source": [
        "File type detection by file name"
      ],
      "metadata": {
        "id": "7vk_5081eEeo"
      }
    },
    {
      "cell_type": "code",
      "source": [
        "IP = input(\"Write the file name\")\n",
        "list1 = IP.split(\".\")\n",
        "print(list1)\n",
        "print(\"file type:\",list1[-1])"
      ],
      "metadata": {
        "colab": {
          "base_uri": "https://localhost:8080/"
        },
        "id": "aMxcScK4ebmP",
        "outputId": "1954da49-03f0-4cbd-c7d0-4d4afa5c2e5e"
      },
      "execution_count": 55,
      "outputs": [
        {
          "output_type": "stream",
          "name": "stdout",
          "text": [
            "Write the file nameV2_1.ipynb\n",
            "['V2_1', 'ipynb']\n",
            "file type: ipynb\n"
          ]
        }
      ]
    },
    {
      "cell_type": "markdown",
      "source": [
        "Output the first and last element in a list"
      ],
      "metadata": {
        "id": "zwiYl4dnoZUb"
      }
    },
    {
      "cell_type": "code",
      "source": [
        "color_list = [\"Red\",\"Green\",\"White\" ,\"Black\"]\n",
        "print(color_list[0],color_list[-1])"
      ],
      "metadata": {
        "colab": {
          "base_uri": "https://localhost:8080/"
        },
        "id": "qi-gpC0fdrbg",
        "outputId": "2eaebdac-15d1-4e52-fb6e-c928e3064d15"
      },
      "execution_count": 56,
      "outputs": [
        {
          "output_type": "stream",
          "name": "stdout",
          "text": [
            "Red Black\n"
          ]
        }
      ]
    },
    {
      "cell_type": "markdown",
      "source": [
        "n** nn ** nnn"
      ],
      "metadata": {
        "id": "_Ki9L9YNoiDF"
      }
    },
    {
      "cell_type": "code",
      "source": [
        "integer = int(input(\"Enter an integer\"))\n",
        "new_integer = integer+11*integer+111*integer\n",
        "print(new_integer)"
      ],
      "metadata": {
        "colab": {
          "base_uri": "https://localhost:8080/"
        },
        "id": "7TCSrdA5fVvZ",
        "outputId": "6f3c9066-5675-40a3-c947-cae1dcbb1d9f"
      },
      "execution_count": 57,
      "outputs": [
        {
          "output_type": "stream",
          "name": "stdout",
          "text": [
            "Enter an integer2\n",
            "246\n"
          ]
        }
      ]
    },
    {
      "cell_type": "markdown",
      "source": [
        "Input an array and process it to output in a date format"
      ],
      "metadata": {
        "id": "VmbZLotSm0x7"
      }
    },
    {
      "cell_type": "code",
      "source": [
        "dt = input(\"Any date in (DD,MM,YYYY) format\")\n",
        "list1 = dt.replace(\",\", \"/\")\n",
        "print(\"Date\", list1)\n"
      ],
      "metadata": {
        "colab": {
          "base_uri": "https://localhost:8080/"
        },
        "id": "IrLz5v4Tf7LL",
        "outputId": "ddc9a539-abb3-4ea3-dc14-d702a097d7de"
      },
      "execution_count": 58,
      "outputs": [
        {
          "output_type": "stream",
          "name": "stdout",
          "text": [
            "Any date in (DD,MM,YYYY) format2024-09-29\n",
            "Date 2024-09-29\n"
          ]
        }
      ]
    },
    {
      "cell_type": "code",
      "source": [
        "dt2 = input(\"Any date in %Y-%m-%d\")"
      ],
      "metadata": {
        "colab": {
          "base_uri": "https://localhost:8080/"
        },
        "id": "Cc9W0WPEjvW6",
        "outputId": "a3a73792-e2d2-48c8-cf90-663655bf4eb0"
      },
      "execution_count": 59,
      "outputs": [
        {
          "name": "stdout",
          "output_type": "stream",
          "text": [
            "Any date in %Y-%m-%d2024-09-29\n"
          ]
        }
      ]
    },
    {
      "cell_type": "code",
      "source": [
        "import datetime\n",
        "try:\n",
        "  date_obj = datetime.datetime.strptime(dt2, \"%Y-%m-%d\").date()\n",
        "  list1 = date_obj.strftime(\"%d/%m/%Y\")\n",
        "  print(\"Date:\", list1)\n",
        "except ValueError:\n",
        "  print(\"Not a date\")"
      ],
      "metadata": {
        "colab": {
          "base_uri": "https://localhost:8080/"
        },
        "id": "fV7XjQ8phVnF",
        "outputId": "9ed60479-fed6-41cb-d8e7-a10a86c04edf"
      },
      "execution_count": 60,
      "outputs": [
        {
          "output_type": "stream",
          "name": "stdout",
          "text": [
            "Date: 29/09/2024\n"
          ]
        }
      ]
    },
    {
      "cell_type": "code",
      "source": [],
      "metadata": {
        "id": "zNcSYfSgiUg6"
      },
      "execution_count": null,
      "outputs": []
    }
  ]
}