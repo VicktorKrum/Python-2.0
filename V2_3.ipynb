{
  "nbformat": 4,
  "nbformat_minor": 0,
  "metadata": {
    "colab": {
      "provenance": []
    },
    "kernelspec": {
      "name": "python3",
      "display_name": "Python 3"
    },
    "language_info": {
      "name": "python"
    }
  },
  "cells": [
    {
      "cell_type": "markdown",
      "source": [
        "GCD of two numbers"
      ],
      "metadata": {
        "id": "GH-zWokso9W3"
      }
    },
    {
      "cell_type": "code",
      "execution_count": 54,
      "metadata": {
        "id": "QPAOmw6D0nTX",
        "colab": {
          "base_uri": "https://localhost:8080/"
        },
        "outputId": "e4a00632-1824-4125-f946-f4821e4fa951"
      },
      "outputs": [
        {
          "output_type": "stream",
          "name": "stdout",
          "text": [
            "Enter two numbers68 72\n",
            "GCD of [68, 72]\n",
            "[1, 2, 4, 17, 34, 68]\n",
            "[1, 2, 3, 4, 6, 8, 9, 12, 18, 24, 36, 72]\n",
            "the list of common divisors:- [1, 2, 4]\n",
            "the greatest common divisor:- 4\n"
          ]
        }
      ],
      "source": [
        "list_gcd = input(\"Enter two numbers\")\n",
        "list_gcd = list_gcd.split(\" \")\n",
        "list_gcd = list(int(i) for i in list_gcd)\n",
        "print(f\"GCD of {list_gcd}\")\n",
        "list_gcd2 = []\n",
        "list_gcd3 = []\n",
        "gcdf = []\n",
        "\n",
        "def list1(list_gcd):\n",
        "  global list_gcd2\n",
        "  global list_gcd3\n",
        "  #for n in list_gcd[0]:\n",
        "  for i in range (1,100,1):\n",
        "    if list_gcd[0]%i ==0:\n",
        "      list_gcd2.append(i)\n",
        "      continue\n",
        "\n",
        "  return list_gcd2\n",
        "\n",
        "def list2(list_gcd):\n",
        "  global list_gcd2\n",
        "  global list_gcd3\n",
        "#for n in list_gcd[0]:\n",
        "  for i in range (1,100,1):\n",
        "    if list_gcd[1]%i ==0:\n",
        "      list_gcd3.append(i)\n",
        "      continue\n",
        "\n",
        "  return list_gcd3\n",
        "\n",
        "list1(list_gcd)\n",
        "print(list_gcd2)\n",
        "list2(list_gcd)\n",
        "print(list_gcd3)\n",
        "\n",
        "def cd(list_gcd2, list_gcd3, list_gcd):\n",
        "  global gcdf\n",
        "  for num in list_gcd2:\n",
        "    for numb in list_gcd3:\n",
        "     if num== numb:\n",
        "       gcdf.append(num)\n",
        "\n",
        "  return gcdf\n",
        "\n",
        "\n",
        "print(f\"the list of common divisors:- {cd(list_gcd2, list_gcd3, list_gcd)}\")\n",
        "\n",
        "def maxi(gcdf):\n",
        "  gcdf.sort()\n",
        "  maxv = gcdf[-1]\n",
        "  return maxv\n",
        "\n",
        "print(f\"the greatest common divisor:- {maxi(gcdf)}\")"
      ]
    },
    {
      "cell_type": "markdown",
      "source": [
        "Write a Python program to add two objects if both objects are integers."
      ],
      "metadata": {
        "id": "BwPlh76EKSai"
      }
    },
    {
      "cell_type": "code",
      "source": [
        "try:\n",
        "  a,b = input(\"Enter two numbers\").split()\n",
        "  a = int(a)\n",
        "  b = int(b)\n",
        "  c = a+b\n",
        "  print(c)\n",
        "except ValueError:\n",
        "  print(\"Invalid input\")"
      ],
      "metadata": {
        "colab": {
          "base_uri": "https://localhost:8080/"
        },
        "id": "BCD5llxqqoLv",
        "outputId": "030c5e96-ccc6-4275-8f47-cfbe4be86669"
      },
      "execution_count": 3,
      "outputs": [
        {
          "output_type": "stream",
          "name": "stdout",
          "text": [
            "Enter two numbers33 you\n",
            "Invalid input\n"
          ]
        }
      ]
    },
    {
      "cell_type": "markdown",
      "source": [
        "swap 2 numbers"
      ],
      "metadata": {
        "id": "vwMoWxcDdcIV"
      }
    },
    {
      "cell_type": "code",
      "source": [
        "a,b = input(\"Enter two numbers to be swapped\\n\").split()\n",
        "a,b = b,a\n",
        "print(f\"a = {a} and b = {b}\")"
      ],
      "metadata": {
        "colab": {
          "base_uri": "https://localhost:8080/"
        },
        "id": "c7xF5Q8QGiY2",
        "outputId": "0d0d564b-87ff-47e2-d79d-1f00664fad51"
      },
      "execution_count": 4,
      "outputs": [
        {
          "output_type": "stream",
          "name": "stdout",
          "text": [
            "Enter two numbers to be swapped\n",
            "4, 5\n",
            "a = 5 and b = 4,\n"
          ]
        }
      ]
    },
    {
      "cell_type": "code",
      "source": [],
      "metadata": {
        "id": "czrUbFs1dV3p"
      },
      "execution_count": null,
      "outputs": []
    }
  ]
}