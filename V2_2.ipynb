{
  "nbformat": 4,
  "nbformat_minor": 0,
  "metadata": {
    "colab": {
      "provenance": []
    },
    "kernelspec": {
      "name": "python3",
      "display_name": "Python 3"
    },
    "language_info": {
      "name": "python"
    }
  },
  "cells": [
    {
      "cell_type": "markdown",
      "source": [
        "output the docstring of a input function."
      ],
      "metadata": {
        "id": "2azp-KyXAz5T"
      }
    },
    {
      "cell_type": "code",
      "execution_count": null,
      "metadata": {
        "colab": {
          "base_uri": "https://localhost:8080/"
        },
        "id": "e0xkus6rqv0H",
        "outputId": "96f08d76-de7e-44e6-d10b-947e4ab19a72"
      },
      "outputs": [
        {
          "output_type": "stream",
          "name": "stdout",
          "text": [
            "Enter a python functionslice\n",
            "slice(stop)\n",
            "slice(start, stop[, step])\n",
            "\n",
            "Create a slice object.  This is used for extended slicing (e.g. a[0:10:2]).\n"
          ]
        }
      ],
      "source": [
        "\n",
        "\n",
        "func_dict = {\n",
        "  'abs': abs,\n",
        "  'print': print,\n",
        "  'input': input,\n",
        "  'len': len,\n",
        "  'type': type,\n",
        "  'range': range,\n",
        "  'sum': sum,\n",
        "  'max': max,\n",
        "  'min': min,\n",
        "  'sorted': sorted,\n",
        "  'reversed': reversed,\n",
        "  'enumerate': enumerate,\n",
        "  'zip': zip,\n",
        "  'map': map,\n",
        "  'filter': filter,\n",
        "  'all': all,\n",
        "  'any': any,\n",
        "  'pow': pow,\n",
        "  'bin':bin,\n",
        "  'oct':oct,\n",
        "  'hex':hex,\n",
        "  'chr':chr,\n",
        "  'ord':ord,\n",
        "  'float':float,\n",
        "  'int':int,\n",
        "  'str':str,\n",
        "  'bool':bool,\n",
        "  'complex':complex,\n",
        "  'bytes':bytes,\n",
        "  'bytearray':bytearray,\n",
        "  'slice':slice,\n",
        "\n",
        "}\n",
        "\n",
        "ok = input(\"Enter a python function\")\n",
        "print(func_dict[ok].__doc__)"
      ]
    },
    {
      "cell_type": "markdown",
      "source": [
        "takes two dates as user inputs and calculates days in betwwen."
      ],
      "metadata": {
        "id": "MF1MIs7_C0SQ"
      }
    },
    {
      "cell_type": "code",
      "source": [
        "import datetime\n",
        "dt1 = input(\"Enter a date\")\n",
        "dt2 = input(\"Enter another date\")\n",
        "try:\n",
        "  dt1 = datetime.datetime.strptime(dt1, \"%Y-%m-%d\")\n",
        "  dt2 = datetime.datetime.strptime(dt2, \"%Y-%m-%d\")\n",
        "  print(dt2-dt1)\n",
        "except ValueError:\n",
        "  print(\"Invalid date format\")"
      ],
      "metadata": {
        "colab": {
          "base_uri": "https://localhost:8080/"
        },
        "id": "BAXdFNi_8zwb",
        "outputId": "d64ae057-4b28-4324-eed8-5b68dafe7370"
      },
      "execution_count": null,
      "outputs": [
        {
          "output_type": "stream",
          "name": "stdout",
          "text": [
            "Enter a date30000-29-09\n",
            "Enter another date3600-09-09\n",
            "Invalid date format\n"
          ]
        }
      ]
    },
    {
      "cell_type": "markdown",
      "source": [
        "a Python program to get a newly-generated string from a given string where \"Is\" has been added to the front. Return the string unchanged if the given string already begins with \"Is\""
      ],
      "metadata": {
        "id": "N_T08dGeGBRm"
      }
    },
    {
      "cell_type": "code",
      "source": [
        "string_input = input(\"Enter a string\")\n",
        "if string_input[:2] == \"Is\" or string_input[:2] == \"is\":\n",
        "  print(string_input)\n",
        "else:\n",
        "  print(f\"Is {string_input}\")"
      ],
      "metadata": {
        "id": "O5bGuEOv9GVP",
        "colab": {
          "base_uri": "https://localhost:8080/"
        },
        "outputId": "af86d633-1943-48f4-a08f-5c696dab4600"
      },
      "execution_count": 3,
      "outputs": [
        {
          "output_type": "stream",
          "name": "stdout",
          "text": [
            "Enter a stringmy name\n",
            "Is my name\n"
          ]
        }
      ]
    },
    {
      "cell_type": "markdown",
      "source": [
        "prints an inpt string for input number of times"
      ],
      "metadata": {
        "id": "03tZ3d7lHlQZ"
      }
    },
    {
      "cell_type": "code",
      "source": [
        "string1 = input(\"Enter a string\")\n",
        "n = int(input(\"Enter a number\"))\n",
        "for i in range(n):\n",
        "  print(string1)"
      ],
      "metadata": {
        "id": "uYJsheI49zgQ",
        "colab": {
          "base_uri": "https://localhost:8080/"
        },
        "outputId": "a2a4ef80-c69c-4539-ded4-e6aef3d6aab6"
      },
      "execution_count": 4,
      "outputs": [
        {
          "output_type": "stream",
          "name": "stdout",
          "text": [
            "Enter a stringmy name is\n",
            "Enter a number5\n",
            "my name is\n",
            "my name is\n",
            "my name is\n",
            "my name is\n",
            "my name is\n"
          ]
        }
      ]
    },
    {
      "cell_type": "markdown",
      "source": [
        "odd or even"
      ],
      "metadata": {
        "id": "dmguOGYiHjZi"
      }
    },
    {
      "cell_type": "code",
      "source": [
        "m = int(input(\"Enter a number\"))\n",
        "if m %2==0:\n",
        "  print(\"Even\")\n",
        "else:\n",
        "  print(\"Odd\")"
      ],
      "metadata": {
        "colab": {
          "base_uri": "https://localhost:8080/"
        },
        "id": "Ex16m5BwHTkT",
        "outputId": "04ae4e40-2942-48a8-fd09-8ba652b44b38"
      },
      "execution_count": 5,
      "outputs": [
        {
          "output_type": "stream",
          "name": "stdout",
          "text": [
            "Enter a number5\n",
            "Odd\n"
          ]
        }
      ]
    },
    {
      "cell_type": "markdown",
      "source": [
        "number of 4 in a string"
      ],
      "metadata": {
        "id": "l7J0N_-im3lM"
      }
    },
    {
      "cell_type": "code",
      "source": [
        "a=0\n",
        "\n",
        "def count(input_4):\n",
        "  global a\n",
        "  for i in input_4:\n",
        "    if i==(\"4\"):\n",
        "      a+=1\n",
        "  return a\n",
        "input_4 = input(f\"Enter a string with multiple 4:\\n\")\n",
        "print(count(input_4) )"
      ],
      "metadata": {
        "colab": {
          "base_uri": "https://localhost:8080/"
        },
        "id": "filbUi6DH4O8",
        "outputId": "ba933db4-c9a9-4402-97ed-2802a3f762f0"
      },
      "execution_count": 23,
      "outputs": [
        {
          "output_type": "stream",
          "name": "stdout",
          "text": [
            "Enter a string with multiple 4:\n",
            "4 8848\n",
            "2\n"
          ]
        }
      ]
    },
    {
      "cell_type": "markdown",
      "source": [
        "no. of 4 in a list"
      ],
      "metadata": {
        "id": "sdCOP_dTm-3W"
      }
    },
    {
      "cell_type": "code",
      "source": [
        "a=0\n",
        "\n",
        "def count(input_4):\n",
        "  global a\n",
        "  for i in input_4:\n",
        "    if i==4:\n",
        "      a+=1\n",
        "  return a\n",
        "input_4 = input(f\"Enter a string with multiple 4:\\n\")\n",
        "\n",
        "list_ip = input_4\n",
        "list_ip = list_ip.split(\",\")\n",
        "list_ip = list(int(i) for i in list_ip)\n",
        "print(count(list_ip) )"
      ],
      "metadata": {
        "colab": {
          "base_uri": "https://localhost:8080/"
        },
        "id": "QVbqvNWMIkQn",
        "outputId": "54890732-778d-4021-d581-f1a031b16984"
      },
      "execution_count": 27,
      "outputs": [
        {
          "output_type": "stream",
          "name": "stdout",
          "text": [
            "Enter a string with multiple 4:\n",
            "4, 2, 4\n",
            "2\n"
          ]
        }
      ]
    },
    {
      "cell_type": "markdown",
      "source": [
        "no of vowels in an input string"
      ],
      "metadata": {
        "id": "4OZiEXlCnCRf"
      }
    },
    {
      "cell_type": "code",
      "source": [
        "def check_vowels(ip):\n",
        "  vowels = [\"a\", \"e\", \"i\", \"o\", \"u\", \"A\", \"E\", \"I\",\"O\",\"U\"]\n",
        "  count = 0\n",
        "  for i in ip:\n",
        "    if i in vowels:\n",
        "      count += 1\n",
        "  return count\n",
        "ip=input(\"Enter a string\")\n",
        "print(f\"No. of vowels {check_vowels(ip)}\")\n"
      ],
      "metadata": {
        "colab": {
          "base_uri": "https://localhost:8080/"
        },
        "id": "38tYDK2rbd4B",
        "outputId": "c67ce86c-4f02-433f-d453-8b0fe6a2057a"
      },
      "execution_count": 30,
      "outputs": [
        {
          "output_type": "stream",
          "name": "stdout",
          "text": [
            "Enter a stringa clever fox\n",
            "No. of vowels 4\n"
          ]
        }
      ]
    },
    {
      "cell_type": "markdown",
      "source": [
        "if a given number belongs to a given list"
      ],
      "metadata": {
        "id": "ieA-IIeTugVh"
      }
    },
    {
      "cell_type": "code",
      "source": [
        "list_check = input(\"Enter a list of numbers\")\n",
        "list_check = list_check.split(\",\")\n",
        "list_check = list(int(i) for i in list_check)\n",
        "check_num = int(input(\"Enter a number\"))\n",
        "\n",
        "def check(list_check, check_num):\n",
        "  for i in list_check:\n",
        "    if i == check_num:\n",
        "      return True\n",
        "\n",
        "  return False\n",
        "print(check(list_check, check_num))"
      ],
      "metadata": {
        "colab": {
          "base_uri": "https://localhost:8080/"
        },
        "id": "Cbi40NcHmhA5",
        "outputId": "e6a3fe98-b5ab-45c4-d32b-a18260797613"
      },
      "execution_count": 52,
      "outputs": [
        {
          "output_type": "stream",
          "name": "stdout",
          "text": [
            "Enter a list of numbers1,2,3,5\n",
            "Enter a number3\n",
            "True\n"
          ]
        }
      ]
    },
    {
      "cell_type": "markdown",
      "source": [
        "Draw a histogram"
      ],
      "metadata": {
        "id": "LrjFTSPawoYi"
      }
    },
    {
      "cell_type": "code",
      "source": [
        "import matplotlib.pyplot as plt\n",
        "hist_num=[1,5,6,4,9,3,2]\n",
        "plt.hist(hist_num, bins=5, edgecolor=\"black\" )\n",
        "plt.show()"
      ],
      "metadata": {
        "colab": {
          "base_uri": "https://localhost:8080/",
          "height": 430
        },
        "id": "vOzia3WenwtM",
        "outputId": "a6653212-5b88-4629-9879-885bee3ab647"
      },
      "execution_count": 56,
      "outputs": [
        {
          "output_type": "display_data",
          "data": {
            "text/plain": [
              "<Figure size 640x480 with 1 Axes>"
            ],
            "image/png": "[encoded data removed]"
          },
          "metadata": {}
        }
      ]
    },
    {
      "cell_type": "markdown",
      "source": [
        "converts items from a list to a string and concatenate them together"
      ],
      "metadata": {
        "id": "towf4KqExnEi"
      }
    },
    {
      "cell_type": "code",
      "source": [
        "list_2= [1,3,5,7]\n",
        "string_1 = \"\"\n",
        "for i in list_2:\n",
        "  string_1 += str(i)\n",
        "print(string_1)\n",
        "print(type(string_1))"
      ],
      "metadata": {
        "colab": {
          "base_uri": "https://localhost:8080/"
        },
        "id": "3JvoBuWjvB8Y",
        "outputId": "e3fd2002-abb4-4e8e-d4c5-5dae8c144b60"
      },
      "execution_count": 58,
      "outputs": [
        {
          "output_type": "stream",
          "name": "stdout",
          "text": [
            "1357\n",
            "<class 'str'>\n"
          ]
        }
      ]
    },
    {
      "cell_type": "markdown",
      "source": [
        "a Python program to print all even numbers from a given list of numbers in the same order and stop printing any after 237 in the sequence."
      ],
      "metadata": {
        "id": "jLIyNp2Myi1R"
      }
    },
    {
      "cell_type": "code",
      "source": [
        "list_4= [1,224, 61,35,78,79,82,7,0,11,13, 237,24,31]\n",
        "for i in list_4:\n",
        "  if i != 237:\n",
        "    if i%2==0:\n",
        "      print(i)\n",
        "    else:\n",
        "      pass\n",
        "  else:\n",
        "    break"
      ],
      "metadata": {
        "colab": {
          "base_uri": "https://localhost:8080/"
        },
        "id": "0z1ERln2xDsW",
        "outputId": "f1412a55-192f-4b59-d029-254278163db1"
      },
      "execution_count": 59,
      "outputs": [
        {
          "output_type": "stream",
          "name": "stdout",
          "text": [
            "224\n",
            "78\n",
            "82\n",
            "0\n"
          ]
        }
      ]
    },
    {
      "cell_type": "code",
      "source": [],
      "metadata": {
        "id": "QR_sEVKQyU-K"
      },
      "execution_count": null,
      "outputs": []
    }
  ]
}